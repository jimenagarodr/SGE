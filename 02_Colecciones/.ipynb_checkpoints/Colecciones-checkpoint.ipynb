{
 "cells": [
  {
   "cell_type": "markdown",
   "id": "0e410c06",
   "metadata": {},
   "source": [
    "__Cuaderno de trabajo de:__ Nombre Apellido"
   ]
  },
  {
   "cell_type": "markdown",
   "id": "3edb839b",
   "metadata": {},
   "source": [
    "# Colecciones\n",
    "  * Listas\n",
    "  * Tuplas\n",
    "  * Diccionarios"
   ]
  },
  {
   "cell_type": "markdown",
   "id": "a0803c98",
   "metadata": {},
   "source": [
    "# Listas\n",
    "Las listas son un tipo de colección ordenada"
   ]
  },
  {
   "cell_type": "code",
   "execution_count": 1,
   "id": "b7d77704",
   "metadata": {},
   "outputs": [
    {
     "name": "stdout",
     "output_type": "stream",
     "text": [
      "======== listas =======\n",
      "[2.1, 2.0, 3.1, 4.5, 8.0]\n",
      "2.1\n",
      "1\n",
      "[2.1, 33, 3.1, 4.5, 8.0]\n",
      "5\n",
      "<class 'list'>\n",
      "4.5\n",
      "8.0\n",
      "[3.1, 4.5]\n",
      "[3.1, 4.5, 8.0]\n",
      "[2.1, 33]\n",
      "[2.1, 33, 9, 3.1, 4.5, 8.0]\n",
      "[2.1, 33, 9, 3.1, 4.5, 8.0, 3.14]\n",
      "[33, 9, 3.1, 4.5, 8.0]\n",
      "[33, 3.1, 4.5, 8.0]\n",
      "[33, 3.1, 8.0]\n",
      "[33, 3.1, 8.0, 33, 3.1, 8.0]\n",
      "[3.1, 3.1, 8.0, 8.0, 33, 33]\n",
      "[33, 33, 8.0, 8.0, 3.1, 3.1]\n",
      "[33, 33]\n",
      "[]\n",
      "[2, 2, 3] [2, 2, 3] [1, 2, 3]\n"
     ]
    }
   ],
   "source": [
    "print ( \"======== listas =======\")\n",
    "lista = [ 2.1, 2.0, 3.1, 4.5, 8.0 ]\n",
    "print(lista)                 # [2.1, 2.0, 3.1, 4.5, 8.0]\n",
    "print(lista[0])              # 2.1  \"Primer elemento de la lista\"\n",
    "print(lista.index(2.0))      # 1 \n",
    "\n",
    "lista[1]=33                  # Cambiar el segundo elemento de la lista\n",
    "print(lista)                 # [2.1, 33, 3.1, 4.5, 8.0]\n",
    "print(len(lista))            # 5 \n",
    "print(type(lista))           # <class 'list'>\n",
    "print(lista[3])              # 4.5\n",
    "print(lista[-1])             # 8.0\n",
    "print(lista[2:4])            # [3.1, 4.5]\n",
    "print(lista[2:])             # [3.1, 4.5, 8.0]\n",
    "print(lista[:2])             # [2.1, 33]\n",
    "\n",
    "lista.insert(2,9)            # inserta 9 en la posición nº 2\n",
    "print(lista)                 # [2.1, 33, 9, 3.1, 4.5, 8.0]\n",
    "\n",
    "lista.append(3.14)           # inserta un elemento al final de la lista\n",
    "print(lista)                 # [2.1, 33, 9, 3.1, 4.5, 8.0, 3.14]\n",
    "\n",
    "lista.remove(3.14)           # borra 3.14\n",
    "lista.remove(2.1)            # borra 2.1\n",
    "print(lista)                 # [33, 9, 3.1, 4.5, 8.0]\n",
    " \n",
    "lista.pop(1)                 # borra el elemento nº 1 \n",
    "print(lista)                 # [33, 3.1, 4.5, 8.0]\n",
    "\n",
    "del lista[2]                 # borra el elemento nº 2 \n",
    "print(lista)                 # [33, 3.1, 8.0]\n",
    "\n",
    "lista.extend(lista)\n",
    "print(lista)                 # [33, 3.1, 8.0, 33, 3.1, 8.0]\n",
    "\n",
    "lista.sort()                 # ordena la lista \n",
    "print(lista)                 # [3.1, 3.1, 8.0, 8.0, 33, 33]\n",
    "lista.sort(reverse = True)\n",
    "print(lista)                 # [33, 33, 8.0, 8.0, 3.1, 3.1]\n",
    "\n",
    "aux = lista[0:2]             # seleccionar una porciones de la lista\n",
    "print(aux)                   # [33, 33]\n",
    "lista.clear()\n",
    "print(lista)                 # []\n",
    "\n",
    "a=[1,2,3]\n",
    "b=a\n",
    "c=list(a)\n",
    "a[0]=2\n",
    "print(a,b,c)                 #[2, 2, 3] [2, 2, 3] [1, 2, 3] #ojo!!!!!!"
   ]
  },
  {
   "cell_type": "code",
   "execution_count": 2,
   "id": "ff97e638",
   "metadata": {},
   "outputs": [
    {
     "name": "stdout",
     "output_type": "stream",
     "text": [
      "['F', 'H', 'A', 'v', 'b']\n",
      "['A', 'b', 'F', 'H', 'v']\n"
     ]
    }
   ],
   "source": [
    "lista=[\"F\",\"H\",\"A\",\"v\",\"b\"]\n",
    "print(lista)                 # ['F', 'H', 'A', 'v', 'b']  \n",
    "lista.sort(key = str.lower)\n",
    "print(lista)                 # ['A', 'b', 'F', 'H', 'v']"
   ]
  },
  {
   "cell_type": "code",
   "execution_count": 3,
   "id": "02999304",
   "metadata": {},
   "outputs": [
    {
     "name": "stdout",
     "output_type": "stream",
     "text": [
      "['x', 'y', 'z', 1, 2, 3]\n",
      "['x', 'y', 'z', [1, 2, 3]]\n"
     ]
    }
   ],
   "source": [
    "l1=[\"x\",\"y\",\"z\"]\n",
    "l2=[1,2,3]\n",
    "l3=l1+l2                     # igual que extend   \n",
    "print(l3)                    # ['x', 'y', 'z', 1, 2, 3] \n",
    "l1.append(l2)\n",
    "print(l1)                    # ['x', 'y', 'z', [1, 2, 3]]"
   ]
  },
  {
   "cell_type": "markdown",
   "id": "29a0b7cc",
   "metadata": {},
   "source": [
    "# Tuplas\n",
    "La principal diferencia con las listas, es que estas ultimas se puede modificar durante la ejecución del programa mientras para las tuplas no es posible alterar su contenido.\n",
    "\n",
    "En realidad el constructor de la tupla es la coma, no el paréntesis, pero el intérprete muestra los paréntesis, y nosotros deberíamos utilizarlos, por claridad."
   ]
  },
  {
   "cell_type": "code",
   "execution_count": 4,
   "id": "b6fbc467",
   "metadata": {},
   "outputs": [
    {
     "name": "stdout",
     "output_type": "stream",
     "text": [
      "======== Tuplas =======\n",
      "(1, 2, 3, 4)\n",
      "1\n",
      "4\n",
      "<class 'tuple'>\n",
      "4\n",
      "4\n",
      "(3, 4)\n",
      "(3, 4)\n",
      "(1, 2)\n",
      "(1, 2)\n"
     ]
    }
   ],
   "source": [
    "print(\"======== Tuplas =======\")\n",
    "# tupla = 1,2,3,4\n",
    "tupla = (1,2,3,4)\n",
    "print(tupla)                 # (1, 2, 3, 4) \n",
    "                             # Primer elemento de la lista\n",
    "print(tupla[0])  \n",
    "# las tuplas son inmutables, es decir, sus valores no se pueden modificar una vez creada; y tienen un tamaño fijo      \n",
    "#tupla[1]=33 TypeError: 'tuple' object does not support item assignment\n",
    "print(len(tupla))            # 4 \n",
    "print(type(tupla))           # <class 'tuple'>\n",
    "print(tupla[3])              # 4\n",
    "print(tupla[-1])             # 4\n",
    "print(tupla[2:4])            # (3, 4)\n",
    "print(tupla[2:])             # (3, 4)\n",
    "print(tupla[:2])             # (1, 2)\n",
    "aux = tupla[0:2]             # seleccionar una porciones de la lista\n",
    "print(aux)                   # (1, 2)"
   ]
  },
  {
   "cell_type": "markdown",
   "id": "3d453b0b",
   "metadata": {},
   "source": [
    "# Diccionarios\n",
    "Son colecciones que relacionan una clave y un valor"
   ]
  },
  {
   "cell_type": "code",
   "execution_count": 5,
   "id": "b6967d4e",
   "metadata": {
    "scrolled": true
   },
   "outputs": [
    {
     "name": "stdout",
     "output_type": "stream",
     "text": [
      "======== Diccionarios =======\n",
      "{'Yellow': 'Amarillo', 'Blue': 'Azul', 'Black': 'Negro'}\n",
      "3\n",
      "<class 'dict'>\n",
      "Azul\n",
      "0000FF\n",
      "{'Yellow': 'Amarillo', 'Black': 'Negro', 'Año': 1984}\n",
      "1984\n",
      "Amarillo\n",
      "{'Black': 'Negro', 'Año': 1984}\n"
     ]
    }
   ],
   "source": [
    "print(\"======== Diccionarios =======\")\n",
    "\n",
    "d = {\n",
    "  \"Yellow\": \"Amarillo\",\n",
    "  \"Blue\": \"Azul\",\n",
    "  \"Black\": \"Negro\"\n",
    "}\n",
    "print(d)                  # {'Yellow': 'Amarillo', 'Blue': 'Azul', 'Black': 'Negro'}\n",
    "print(len(d))             # 3 \n",
    "print(type(d))            # <class 'dict'>\n",
    "#se accede por su clave\n",
    "print(d[\"Blue\"])          # Azul\n",
    "d[\"Blue\"]=\"0000FF\"        \n",
    "print(d[\"Blue\"])          # 0000FF  \n",
    "del d['Blue']              \n",
    "d.update({\"Año\": 1984})\n",
    "print(d)                  # {'Yellow': 'Amarillo', 'Black': 'Negro', 'Año': 1984}\n",
    "print(d[\"Año\"])           # 1984 \n",
    "print(d.pop(\"Yellow\"))    # Amarillo \n",
    "print(d)                  # {'Black': 'Negro', 'Año': 1984}"
   ]
  },
  {
   "cell_type": "markdown",
   "id": "9b066a79",
   "metadata": {},
   "source": [
    "<hr>\n",
    "<b><font color='red'>Ejercicio 01</font></b>\n",
    "\n",
    "Completa y responde:"
   ]
  },
  {
   "cell_type": "code",
   "execution_count": 4,
   "id": "14315206",
   "metadata": {},
   "outputs": [
    {
     "name": "stdout",
     "output_type": "stream",
     "text": [
      "Violeta\n",
      "['Rojo', 'Naranja', 'Verde', 'Azul', 'Añil', 'Violeta']\n",
      "['Azul', 'Añil', 'Naranja', 'Rojo', 'Verde', 'Violeta']\n",
      "6\n"
     ]
    }
   ],
   "source": [
    "lista = [\"Rojo\",\"Naranja\",\"Amarillo\",\"Verde\",\"Azul\",\"Añil\",\"Violeta\"]\n",
    "#imprime por pantalla el septimo item\n",
    "print(lista[6])\n",
    "#borra el Amarillo e imprime por pantalla la lista entera\n",
    "lista.remove(\"Amarillo\")\n",
    "print(lista) \n",
    "#ordena la lista e imprimela por pantalla\n",
    "lista.sort()              \n",
    "print(lista) \n",
    "#¿Cuál es la longitud de la lista?\n",
    "print(len(lista))  "
   ]
  },
  {
   "cell_type": "markdown",
   "id": "49d3d66d",
   "metadata": {},
   "source": [
    "<hr>\n",
    "<b><font color='red'>Ejercicio 02</font></b>\n",
    "\n",
    "Es el mismo ejercicio que el anterior, pero ahora lo hacemos con tuplas."
   ]
  },
  {
   "cell_type": "code",
   "execution_count": 6,
   "id": "ea21a1f9",
   "metadata": {},
   "outputs": [
    {
     "name": "stdout",
     "output_type": "stream",
     "text": [
      "Violeta\n",
      "7\n"
     ]
    }
   ],
   "source": [
    "tupla = (\"Rojo\",\"Naranja\",\"Amarillo\",\"Verde\",\"Azul\",\"Añil\",\"Violeta\")\n",
    "#imprime por pantalla el septimo item\n",
    "print(tupla[6])\n",
    "#borra el Amarillo e imprime por pantalla la tupla entera\n",
    "# NO se puede porq las tuplas son inmutables, habría que crear una nueva sin el color amarillo\n",
    "\n",
    "#cambia la posción del Naranja por la posición del Verde e imprime por pantalla la tupla entera\n",
    "# NO se puede porq las tuplas son inmutables, habría que crear una nueva con los colores cambiados\n",
    "\n",
    "#ordena la tupla e imprimela por pantalla\n",
    "# NO se puede ordenar, solo se puede imprimir\n",
    "\n",
    "#¿Cuál es la longitud de la tupla?\n",
    "print(len(tupla))"
   ]
  },
  {
   "cell_type": "markdown",
   "id": "2a94218a",
   "metadata": {},
   "source": [
    "<hr>\n",
    "<b><font color='red'>Ejercicio 03</font></b>\n",
    "\n",
    "Completa y responde"
   ]
  },
  {
   "cell_type": "code",
   "execution_count": 19,
   "id": "7b28e685",
   "metadata": {},
   "outputs": [
    {
     "name": "stdout",
     "output_type": "stream",
     "text": [
      "Jimena\n",
      "12\n",
      "diciembre\n"
     ]
    }
   ],
   "source": [
    "dic = {\n",
    "    \"Nombre\":\"Jimena\",\n",
    "    \"Apellido\":\"García\",\n",
    "    \"Día de nacimiento\":\"12\",\n",
    "    \"Mes de nacimiento\":\"12\"\n",
    "}\n",
    "\n",
    "#responde a las siguientes preguntas accediento al diccionario que has creado:\n",
    "#¿Cómo te llamas?\n",
    "print(dic[\"Nombre\"])\n",
    "#¿Qué día naciste?\n",
    "print(dic[\"Día de nacimiento\"]) \n",
    "#Utiliza la siguiente lista y con tu diccionario responde a la siugiente pregunta con el nombre del mes\n",
    "MES=[\"enero\",\"febrero\",\"marzo\",\"abril\",\"mayo\",\"junio\",\"julio\",\"agosto\",\"septiembre\",\"octubre\",\"noviembre\",\"diciembre\"]\n",
    "#¿Qué mes naciste?\n",
    "numero = dic[\"Mes de nacimiento\"]\n",
    "numero2= int(numero)\n",
    "print(MES[numero2-1])"
   ]
  },
  {
   "cell_type": "code",
   "execution_count": null,
   "id": "bbfda54b",
   "metadata": {},
   "outputs": [],
   "source": []
  }
 ],
 "metadata": {
  "kernelspec": {
   "display_name": "Python 3 (ipykernel)",
   "language": "python",
   "name": "python3"
  },
  "language_info": {
   "codemirror_mode": {
    "name": "ipython",
    "version": 3
   },
   "file_extension": ".py",
   "mimetype": "text/x-python",
   "name": "python",
   "nbconvert_exporter": "python",
   "pygments_lexer": "ipython3",
   "version": "3.9.13"
  }
 },
 "nbformat": 4,
 "nbformat_minor": 5
}
